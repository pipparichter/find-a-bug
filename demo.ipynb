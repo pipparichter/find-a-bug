{
 "cells": [
  {
   "cell_type": "markdown",
   "id": "2f889f72",
   "metadata": {},
   "source": [
    "<img src=\"./mascot.png\"  width=\"400\" height=\"400\">\n",
    "\n",
    "# Find-A-Bug\n",
    "\n",
    "\n",
    "## Installation\n",
    "\n",
    "There is no good way to do this yet. The only file that is needed for interacting with the database is the `find_a_bug_api.py` file. This file can be downloaded from this repository into the working directory, and used as shown in the sections below."
   ]
  },
  {
   "cell_type": "code",
   "execution_count": 1,
   "id": "3ba45b05",
   "metadata": {},
   "outputs": [
    {
     "name": "stdout",
     "output_type": "stream",
     "text": [
      "--2023-03-03 14:43:01--  https://raw.githubusercontent.com/pipparichter/find-a-bug/master/find_a_bug_api.py\n",
      "Resolving raw.githubusercontent.com (raw.githubusercontent.com)... 185.199.110.133, 185.199.109.133, 185.199.108.133, ...\n",
      "Connecting to raw.githubusercontent.com (raw.githubusercontent.com)|185.199.110.133|:443... connected.\n",
      "HTTP request sent, awaiting response... 200 OK\n",
      "Length: 2629 (2.6K) [text/plain]\n",
      "Saving to: ‘find_a_bug_api.py.1’\n",
      "\n",
      "find_a_bug_api.py.1 100%[===================>]   2.57K  --.-KB/s    in 0s      \n",
      "\n",
      "2023-03-03 14:43:01 (13.9 MB/s) - ‘find_a_bug_api.py.1’ saved [2629/2629]\n",
      "\n"
     ]
    }
   ],
   "source": [
    "!wget https://raw.githubusercontent.com/pipparichter/find-a-bug/master/find_a_bug_api.py"
   ]
  },
  {
   "cell_type": "markdown",
   "id": "75506f2b",
   "metadata": {},
   "source": [
    "## About the database\n",
    "\n",
    "### Where is the data hosted?\n",
    "\n",
    "The data is hosted on a Caltech machine running a Red Hat Linux distro, `microbes.gps.caltech.edu`. This remote host is only accessible when on Caltech campus wifi or using a VPN.\n",
    "\n",
    "### How is the data stored?\n",
    "\n",
    "The data is stored in multiple tables in a MariaDB SQL database. More information on the table structure and the information they contain is given in the following section. \n",
    "\n",
    "### What information does the database contain?\n",
    "\n",
    "Currently, the data is organized into three tables (although we will be adding more soon!). All data is from the Genome Taxonomy Database (GTDB) r207 release. **NOTE:** It is not necessary to know which information is found in which table to use the API; it's all handled!\n",
    "\n",
    "1. `gtdb_r207_metadata`\n",
    "2. `gtdb_r207_amino_acid_seqs`\n",
    "3. `gtdb_r207_annotations_kegg`"
   ]
  },
  {
   "cell_type": "markdown",
   "id": "fa60fb5c",
   "metadata": {},
   "source": [
    "## Querying the database\n",
    "\n",
    "There is currently one all-purpose function for querying the Find-A-Bug database (`find_a_bug_api.get`), which will handle any query your heart desires. Eventually, I will add in some canned functions, which allow easier access to certain queries which are frequently made.\n",
    "\n",
    "```\n",
    "def get(fields, where={}, verbose=True):\n",
    "    '''\n",
    "\n",
    "    args:\n",
    "        : fields (str or list): Either a single field or a list of fields for\n",
    "            which to retrieve information. \n",
    "    kwargs:\n",
    "        : where (dict): Specifies search options. Some format options for the\n",
    "            key, value pairs are as follows:\n",
    "            (1) 'ko':'KO123'\n",
    "            (2) 'ko':['KO123', 'KO456'] retrieves all fields where the KO group\n",
    "              matches EITHER of the specified groups. \n",
    "            (3) 'threshold':('>', 500)\n",
    "            (4) 'threshold':[('>', 500), ('<', 1000)]\n",
    "    '''\n",
    "```"
   ]
  },
  {
   "cell_type": "code",
   "execution_count": 1,
   "id": "3b1c6180",
   "metadata": {},
   "outputs": [],
   "source": [
    "# Import the get function from the api module. \n",
    "from findabug_api import get "
   ]
  },
  {
   "cell_type": "markdown",
   "id": "c98e5f3a",
   "metadata": {},
   "source": [
    "I'll show a few example queries below. The time range for how long it takes to query the database vary according to which table is being queried in the database. The `gtdb_r207_metadata` table, for example, is slow to query (for reasons which I am currently trying to sort out). "
   ]
  },
  {
   "cell_type": "markdown",
   "id": "1a9a9ff6",
   "metadata": {},
   "source": [
    "**Q:** What are all gene IDs that were annotated as either K03738 or K11389, with an HMM score above the predefined threshold? (NOTE: For reasons relating to upload time, only the annotations which met the predefined threshold are included in the database)"
   ]
  },
  {
   "cell_type": "code",
   "execution_count": 12,
   "id": "096b406c",
   "metadata": {},
   "outputs": [
    {
     "name": "stdout",
     "output_type": "stream",
     "text": [
      "GET http://microbes.gps.caltech.edu:8000/gtdb_species/genome_id=eq;GB_GCA_018263395.1\n"
     ]
    }
   ],
   "source": [
    "info = get('gtdb_species', {'genome_id':'GB_GCA_018263395.1'})"
   ]
  },
  {
   "cell_type": "code",
   "execution_count": 13,
   "id": "f7ff0257",
   "metadata": {},
   "outputs": [
    {
     "name": "stdout",
     "output_type": "stream",
     "text": [
      "2 results in 3.968134013004601 seconds <br><br>SELECT gtdb_r207_metadata.gtdb_species \n",
      "FROM gtdb_r207_metadata \n",
      "WHERE gtdb_r207_metadata.genome_id = :genome_id_1<br><br>gtdb_species<br>s__JAANXF01 sp018263395<br>\n"
     ]
    }
   ],
   "source": [
    "print(info)"
   ]
  },
  {
   "cell_type": "markdown",
   "id": "ad6fb344",
   "metadata": {},
   "source": [
    "**Q:** What is the total number of genomes that are from the Enterobacteriaceae taxonomic family, according the GTDB genome annotation? (TODO: It might be useful to add some kind of `count` function.\n"
   ]
  },
  {
   "cell_type": "markdown",
   "id": "bd5b6463",
   "metadata": {},
   "source": [
    "## Feedback\n",
    "\n",
    "### Error reports\n",
    "\n",
    "### Feature requests\n"
   ]
  }
 ],
 "metadata": {
  "kernelspec": {
   "display_name": "Python 3 (ipykernel)",
   "language": "python",
   "name": "python3"
  },
  "language_info": {
   "codemirror_mode": {
    "name": "ipython",
    "version": 3
   },
   "file_extension": ".py",
   "mimetype": "text/x-python",
   "name": "python",
   "nbconvert_exporter": "python",
   "pygments_lexer": "ipython3",
   "version": "3.8.11"
  }
 },
 "nbformat": 4,
 "nbformat_minor": 5
}
