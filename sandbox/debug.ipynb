{
 "cells": [
  {
   "cell_type": "code",
   "execution_count": 18,
   "metadata": {},
   "outputs": [
    {
     "name": "stdout",
     "output_type": "stream",
     "text": [
      "Current working directory: /home/prichter/Documents/find-a-bug/sandbox\n"
     ]
    }
   ],
   "source": [
    "import pandas as pd\n",
    "import os\n",
    "import requests\n",
    "import numpy as np \n",
    "\n",
    "print('Current working directory:', os.getcwd())"
   ]
  },
  {
   "cell_type": "code",
   "execution_count": 9,
   "metadata": {},
   "outputs": [
    {
     "name": "stderr",
     "output_type": "stream",
     "text": [
      "/tmp/ipykernel_233074/888517050.py:6: DtypeWarning: Columns (1) have mixed types. Specify dtype option on import or set low_memory=False.\n",
      "  failures_df.append(pd.read_csv(os.path.join(LOG_DIR, file_name), comment='#'))\n",
      "/tmp/ipykernel_233074/888517050.py:6: DtypeWarning: Columns (1) have mixed types. Specify dtype option on import or set low_memory=False.\n",
      "  failures_df.append(pd.read_csv(os.path.join(LOG_DIR, file_name), comment='#'))\n"
     ]
    }
   ],
   "source": [
    "LOG_DIR = os.path.join(os.getcwd(), '../scripts/log/')\n",
    "\n",
    "# Running into errors uploading certain annotations to the MariaDB database. \n",
    "failures_df = []\n",
    "for file_name in os.listdir(LOG_DIR):\n",
    "    failures_df.append(pd.read_csv(os.path.join(LOG_DIR, file_name), comment='#'))\n",
    "failures_df = pd.concat(failures_df)"
   ]
  },
  {
   "cell_type": "code",
   "execution_count": 12,
   "metadata": {},
   "outputs": [
    {
     "name": "stdout",
     "output_type": "stream",
     "text": [
      "1100 genome IDs failed to upload.\n"
     ]
    }
   ],
   "source": [
    "print(len(failures_df.genome_id.unique()), 'genome IDs failed to upload.')\n",
    "# Perhaps I should first make sure the files are actually present in the "
   ]
  },
  {
   "cell_type": "code",
   "execution_count": 17,
   "metadata": {},
   "outputs": [],
   "source": [
    "failing_genome_ids = failures_df['genome_id'].unique()\n",
    "np.savetxt('failing_genome_ids.txt', failing_genome_ids, fmt='%s')"
   ]
  },
  {
   "cell_type": "code",
   "execution_count": 35,
   "metadata": {},
   "outputs": [
    {
     "name": "stdout",
     "output_type": "stream",
     "text": [
      "<!doctype html>\n",
      "<html lang=en>\n",
      "<title>500 Internal Server Error</title>\n",
      "<h1>Internal Server Error</h1>\n",
      "<p>The server encountered an internal error and was unable to complete your request. Either the server is overloaded or there is an error in the application.</p>\n",
      "\n"
     ]
    }
   ],
   "source": [
    "for genome_id in failing_genome_ids:\n",
    "    url = f'http://microbes.gps.caltech.edu:8000/get/proteins_r207?genome_id[eq]{genome_id}'\n",
    "    result = requests.get(url).text \n",
    "    print(result)\n",
    "    break\n",
    "    "
   ]
  },
  {
   "cell_type": "code",
   "execution_count": null,
   "metadata": {},
   "outputs": [],
   "source": []
  }
 ],
 "metadata": {
  "kernelspec": {
   "display_name": "env",
   "language": "python",
   "name": "python3"
  },
  "language_info": {
   "codemirror_mode": {
    "name": "ipython",
    "version": 3
   },
   "file_extension": ".py",
   "mimetype": "text/x-python",
   "name": "python",
   "nbconvert_exporter": "python",
   "pygments_lexer": "ipython3",
   "version": "3.11.5"
  }
 },
 "nbformat": 4,
 "nbformat_minor": 2
}
