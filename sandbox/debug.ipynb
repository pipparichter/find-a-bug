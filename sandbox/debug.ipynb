{
 "cells": [
  {
   "cell_type": "code",
   "execution_count": 1,
   "metadata": {},
   "outputs": [
    {
     "name": "stdout",
     "output_type": "stream",
     "text": [
      "Current working directory: /home/prichter/Documents/find-a-bug/sandbox\n"
     ]
    }
   ],
   "source": [
    "import pandas as pd\n",
    "import os\n",
    "import requests\n",
    "import numpy as np \n",
    "import io\n",
    "import tqdm\n",
    "import sys \n",
    "from utils.files import *\n",
    "\n",
    "print('Current working directory:', os.getcwd())"
   ]
  },
  {
   "cell_type": "code",
   "execution_count": 8,
   "metadata": {},
   "outputs": [
    {
     "name": "stderr",
     "output_type": "stream",
     "text": [
      "/tmp/ipykernel_468266/888517050.py:6: DtypeWarning: Columns (1) have mixed types. Specify dtype option on import or set low_memory=False.\n",
      "  failures_df.append(pd.read_csv(os.path.join(LOG_DIR, file_name), comment='#'))\n",
      "/tmp/ipykernel_468266/888517050.py:6: DtypeWarning: Columns (1) have mixed types. Specify dtype option on import or set low_memory=False.\n",
      "  failures_df.append(pd.read_csv(os.path.join(LOG_DIR, file_name), comment='#'))\n"
     ]
    }
   ],
   "source": [
    "LOG_DIR = os.path.join(os.getcwd(), '../scripts/log/')\n",
    "\n",
    "# Running into errors uploading certain annotations to the MariaDB database. \n",
    "failures_df = []\n",
    "for file_name in os.listdir(LOG_DIR):\n",
    "    failures_df.append(pd.read_csv(os.path.join(LOG_DIR, file_name), comment='#'))\n",
    "failures_df = pd.concat(failures_df)"
   ]
  },
  {
   "cell_type": "code",
   "execution_count": 12,
   "metadata": {},
   "outputs": [
    {
     "name": "stdout",
     "output_type": "stream",
     "text": [
      "Number of gene IDs in failures_df: 1616073\n",
      "Number of gene IDs after de-duplicating: 1546186\n"
     ]
    }
   ],
   "source": [
    "print('Number of gene IDs in failures_df:', len(failures_df))\n",
    "print('Number of gene IDs after de-duplicating:', len(failures_df.gene_id.unique()))\n",
    "failures_df['duplicated_gene_id'] = failures_df.gene_id.duplicated()\n",
    "# Ah it makes sense that these are duplicated because they are for annotations, and there can be multiple annotations per gene. \n",
    "# print(failures_df[failures_df.duplicated_gene_id])"
   ]
  },
  {
   "cell_type": "code",
   "execution_count": 12,
   "metadata": {},
   "outputs": [
    {
     "name": "stdout",
     "output_type": "stream",
     "text": [
      "1100 genome IDs failed to upload.\n"
     ]
    }
   ],
   "source": [
    "print(len(failures_df.genome_id.unique()), 'genome IDs failed to upload.')\n",
    "# Perhaps I should first make sure the files are actually present in the source directory. \n",
    "# UPDATE: They all are! So maybe the genes aren't in the files?"
   ]
  },
  {
   "cell_type": "code",
   "execution_count": 3,
   "metadata": {},
   "outputs": [],
   "source": [
    "failing_genome_ids = failures_df['genome_id'].unique()\n",
    "np.savetxt('failing_genome_ids.txt', failing_genome_ids, fmt='%s')"
   ]
  },
  {
   "cell_type": "code",
   "execution_count": 4,
   "metadata": {},
   "outputs": [
    {
     "name": "stdout",
     "output_type": "stream",
     "text": [
      "There doesnt seem to be any results for GCA_011364235.1. Length of results: 0\n",
      "There doesnt seem to be any results for GCF_015245355.1. Length of results: 0\n",
      "There doesnt seem to be any results for GCA_011364155.1. Length of results: 0\n",
      "There doesnt seem to be any results for GCA_011364265.1. Length of results: 0\n",
      "There doesnt seem to be any results for GCF_015244745.1. Length of results: 0\n",
      "There doesnt seem to be any results for GCA_011364225.1. Length of results: 0\n",
      "There doesnt seem to be any results for GCA_011364305.1. Length of results: 0\n"
     ]
    }
   ],
   "source": [
    "gene_ids_in_database_df = []\n",
    "for genome_id in failing_genome_ids:\n",
    "    url = f'http://microbes.gps.caltech.edu:8000/get/proteins_r207?genome_id[eq]{genome_id}'\n",
    "    result = requests.get(url).text \n",
    "    try:\n",
    "        gene_ids_in_database_df.append(pd.read_csv(io.StringIO(result)))\n",
    "    except:\n",
    "        print(f'There doesnt seem to be any results for {genome_id}. Length of results:', len(result))\n",
    "gene_ids_in_database_df = pd.concat(gene_ids_in_database_df)\n",
    "gene_ids_in_database_df.set_index('gene_id').to_csv('gene_ids_in_database.csv')\n",
    "\n",
    "    "
   ]
  },
  {
   "cell_type": "code",
   "execution_count": null,
   "metadata": {},
   "outputs": [],
   "source": [
    "# gene_ids_not_in_database_already_downloaded = np.loadtxt('gene_ids_not_in_database.txt', dtype=str)\n",
    "# gene_ids_to_check = [gene_id for gene_id in failures_df.gene_id.values if (gene_id not in gene_ids_not_in_database_already_downloaded)]\n",
    "# print(f'Already confirmed {len(gene_ids_not_in_database_already_downloaded)} missing genes.')\n",
    "\n",
    "gene_ids_not_in_database = []\n",
    "\n",
    "chunk_size = 100\n",
    "# Why are there duplicate gene IDs? Are some of the IDs not unique?\n",
    "gene_ids_to_check = failures_df.gene_id.unique().tolist()\n",
    "gene_ids_to_check = [gene_ids_to_check[i * chunk_size:(i + 1) * chunk_size] for i in range(len(gene_ids_to_check) // chunk_size + 1)]\n",
    "\n",
    "pbar = tqdm.tqdm(gene_ids_to_check, desc='Querying Find-A-Bug... Found 0 missing genes.')\n",
    "for chunk in pbar:\n",
    "    filter_ = 'gene_id[eq]' + '[or]'.join(chunk)\n",
    "    url = f'http://microbes.gps.caltech.edu:8000/get/proteins_r207?' + filter_\n",
    "\n",
    "    result = requests.get(url).text \n",
    "\n",
    "    if len(result) == 0:\n",
    "        print('No results returned!')\n",
    "        gene_ids_not_in_database += chunk\n",
    "        pbar.set_description(f'Querying Find-A-Bug... Found {len(gene_ids_not_in_database)} missing genes.')\n",
    "    else:\n",
    "        result_df = pd.read_csv(io.StringIO(result))\n",
    "        if len(result_df) < len(chunk):\n",
    "            print(f'Retrieved {len(result_df)} results, expected {len(chunk)}.')\n",
    "            gene_ids_not_in_database += [gene_id for gene_id in chunk if (gene_id not in result_df.gene_id)]\n",
    "            pbar.set_description(f'Querying Find-A-Bug... Found {len(gene_ids_not_in_database)} missing genes.')\n",
    "\n",
    "np.savetxt('gene_ids_not_in_database.txt', gene_ids_not_in_database, fmt='%s')\n"
   ]
  },
  {
   "cell_type": "code",
   "execution_count": 70,
   "metadata": {},
   "outputs": [],
   "source": [
    "failures_df = failures_df[failures_df.gene_id.isin(gene_ids_not_in_database)]"
   ]
  },
  {
   "cell_type": "code",
   "execution_count": 73,
   "metadata": {},
   "outputs": [
    {
     "name": "stdout",
     "output_type": "stream",
     "text": [
      "Number of genomes with failed genes: 28\n"
     ]
    }
   ],
   "source": [
    "print('Number of genomes with failed genes:', len(failures_df.genome_id.unique()))"
   ]
  },
  {
   "cell_type": "code",
   "execution_count": 5,
   "metadata": {},
   "outputs": [
    {
     "name": "stdout",
     "output_type": "stream",
     "text": [
      "['GCF_900112355.1', 'GCA_016708875.1', 'GCA_903892355.1', 'GCF_014926385.1', 'GCA_017452545.1', 'GCA_002928875.1', 'GCF_008271465.1', 'GCA_003650545.1', 'GCF_000744705.1', 'GCF_003752025.1', 'GCF_001583495.1', 'GCA_015234465.1', 'GCA_003151935.1', 'GCA_902789265.1', 'GCA_014529615.1', 'GCA_018829985.1', 'GCA_017993235.1', 'GCF_000424285.1', 'GCA_016870515.1', 'GCF_017922435.1', 'GCF_008802355.1', 'GCA_011338225.1', 'GCA_019113455.1', 'GCA_015066445.1', 'GCF_000272105.2', 'GCF_000746085.1', 'GCA_905234465.1', 'GCA_900552055.1', 'GCA_003150135.1', 'GCA_018715585.1', 'GCA_008080615.1', 'GCA_009840625.1', 'GCA_017408325.1', 'GCF_004331035.1', 'GCA_902826575.1', 'GCF_002288305.1', 'GCF_008932295.1', 'GCF_011319465.1', 'GCA_018829445.1', 'GCF_000336995.1', 'GCA_017557185.1', 'GCA_016938695.1', 'GCA_001805885.1', 'GCA_001821435.1', 'GCA_002789815.1', 'GCA_016926395.1', 'GCF_000585495.1', 'GCA_012514185.1', 'GCF_001590965.1', 'GCA_017456765.1', 'GCA_903835865.1', 'GCA_013820755.1', 'GCF_013283875.1', 'GCA_905210515.1', 'GCF_000204035.1', 'GCA_004354905.1', 'GCF_010882175.1', 'GCF_000695795.1', 'GCA_017554335.1', 'GCF_001280305.1', 'GCA_013043685.1', 'GCF_014174375.1', 'GCF_902859725.1', 'GCF_014851675.1', 'GCA_003516865.1', 'GCF_007954585.1', 'GCA_016782445.1', 'GCF_003014675.1', 'GCA_900545445.1', 'GCA_900766915.1', 'GCF_013294005.1', 'GCA_017612555.1', 'GCF_000236705.1', 'GCF_008087625.1', 'GCA_902613805.1', 'GCA_003138365.1', 'GCA_016844415.1', 'GCA_009360615.1', 'GCA_018883485.1', 'GCF_900637165.1', 'GCF_015244675.1', 'GCA_013140765.1', 'GCA_013812235.1', 'GCA_002498725.1', 'GCF_001742745.1', 'GCA_018067195.1', 'GCF_000717715.1', 'GCA_902796815.1', 'GCA_001873135.1', 'GCA_016302545.1', 'GCF_001648175.1', 'GCA_012837465.1', 'GCA_900552415.1', 'GCF_000828055.2', 'GCA_002310015.1', 'GCF_001435975.1', 'GCF_002127585.1', 'GCA_014764605.1', 'GCA_002394305.1', 'GCF_000312385.1', 'GCA_910595805.1', 'GCA_002405995.1', 'GCF_011759375.1', 'GCA_012271025.1', 'GCA_018608705.1', 'GCA_009886115.1', 'GCA_905236705.1', 'GCA_003141205.1', 'GCA_017456005.1', 'GCA_003246265.1', 'GCA_014584465.1', 'GCF_000297215.2', 'GCF_000020465.1', 'GCF_000012305.1', 'GCA_002373855.1', 'GCA_017656135.1', 'GCA_902787555.1', 'GCF_009829915.1', 'GCF_904420245.1', 'GCA_009777165.1', 'GCA_017550525.1', 'GCA_001770905.1', 'GCA_018623275.1', 'GCA_013154205.1', 'GCF_013409845.1', 'GCA_003153435.1', 'GCF_000172995.2', 'GCA_009885275.1', 'GCA_018266795.1', 'GCF_900258515.1', 'GCA_003140915.1', 'GCA_902586195.1', 'GCA_903899655.1', 'GCA_900299495.1', 'GCF_016900095.1', 'GCA_016186825.1', 'GCF_014164585.1', 'GCF_000210095.1', 'GCA_902803135.1', 'GCA_017478245.1', 'GCF_005490985.1', 'GCA_017415485.1', 'GCF_900116365.1', 'GCA_002862945.1', 'GCF_003182155.1', 'GCA_011754095.1', 'GCA_902771435.1', 'GCF_900129445.1', 'GCA_009701885.1', 'GCA_002401525.1', 'GCA_017404795.1', 'GCA_003213095.1', 'GCA_018883945.1', 'GCA_002359495.1', 'GCF_900636325.1', 'GCA_900316485.1', 'GCA_009377745.1', 'GCA_013154335.1', 'GCA_010032545.1', 'GCA_011364235.1', 'GCA_018401055.1', 'GCF_003660165.1', 'GCA_000169075.1', 'GCA_903825895.1', 'GCF_015667935.1', 'GCF_013415905.1', 'GCF_013155395.1', 'GCA_002315555.1', 'GCA_017859395.1', 'GCF_016427455.1', 'GCF_003260205.1', 'GCF_000006175.1', 'GCA_015055965.1', 'GCF_000092105.1', 'GCA_903900935.1', 'GCA_004799545.1', 'GCA_003163875.1', 'GCA_002791435.1', 'GCA_905233285.1', 'GCA_015523565.1', 'GCA_905234845.1', 'GCA_016215345.1', 'GCA_902560015.1', 'GCA_017470325.1', 'GCA_905208345.1', 'GCA_002348825.1', 'GCA_903823025.1', 'GCA_009780285.1', 'GCA_016932015.1', 'GCA_002726845.1', 'GCA_002424545.1', 'GCA_018401955.1', 'GCA_012517675.1', 'GCA_902562275.1', 'GCF_014837045.1', 'GCF_009932335.1', 'GCA_000513075.1', 'GCA_012799365.1', 'GCA_902552185.1', 'GCF_002080455.1', 'GCF_000615975.1', 'GCA_002841785.1', 'GCF_009789575.1', 'GCA_018901315.1', 'GCF_900116135.1', 'GCF_001656295.1', 'GCA_003669615.1', 'GCA_003170295.1', 'GCA_003524745.1', 'GCF_001570565.1', 'GCF_015694425.1', 'GCF_015245355.1', 'GCA_001779505.1', 'GCA_018826545.1', 'GCF_009905795.1', 'GCF_002943715.1', 'GCA_009908885.1', 'GCF_000787695.1', 'GCF_002843355.2', 'GCA_001773135.1', 'GCA_018824365.1', 'GCA_013377015.1', 'GCA_016763355.1', 'GCA_903844825.1', 'GCA_903908245.1', 'GCA_903893085.1', 'GCF_015711605.1', 'GCA_016649835.1', 'GCF_900474185.1', 'GCF_014083945.1', 'GCA_017458265.1', 'GCF_018141665.1', 'GCA_016124645.1', 'GCF_900113935.1', 'GCA_018970765.1', 'GCA_903919375.1', 'GCF_018398895.1', 'GCA_012517325.1', 'GCA_002728335.1', 'GCA_902611465.1', 'GCA_002691185.1', 'GCA_017515985.1', 'GCA_014239775.1', 'GCA_002869925.2', 'GCF_004331345.1', 'GCA_001789045.1', 'GCA_003021785.1', 'GCF_004349195.1', 'GCF_001858025.1', 'GCF_001880225.1', 'GCA_017645365.1', 'GCA_002563855.1', 'GCF_900143215.1', 'GCA_016218725.1', 'GCA_004799405.1', 'GCA_017526905.1', 'GCA_009922615.1', 'GCF_000382145.1', 'GCA_018066865.1', 'GCF_001262715.1', 'GCF_001405015.1', 'GCF_013839515.1', 'GCA_009703845.1', 'GCA_017429985.1', 'GCA_002726915.1', 'GCA_003281605.1', 'GCF_011392115.1', 'GCA_013297865.1', 'GCA_018241025.1', 'GCA_009936995.1', 'GCF_000469385.1', 'GCF_900184705.1', 'GCF_001879105.1', 'GCA_013138705.1', 'GCA_009927565.1', 'GCA_000155715.1', 'GCA_002470695.1', 'GCF_011602365.1', 'GCA_016870095.1', 'GCF_000151205.2', 'GCF_000225005.1', 'GCF_014650915.1', 'GCA_900320285.1', 'GCA_003221695.1', 'GCF_000014005.1', 'GCF_000746825.1', 'GCF_007954505.1', 'GCA_017433675.1', 'GCF_011057715.1', 'GCF_001426245.1', 'GCA_903891395.1', 'GCF_003201565.1', 'GCA_017519045.1', 'GCF_008016795.1', 'GCA_903900155.1', 'GCF_017100085.1', 'GCA_019116865.1', 'GCA_016875645.1', 'GCA_902826215.1', 'GCA_002382325.1', 'GCA_002344215.1', 'GCA_902790325.1', 'GCA_003417655.1', 'GCF_002095485.1', 'GCA_012927445.1', 'GCF_000308595.1', 'GCF_000498495.1', 'GCA_002292185.1', 'GCA_003695905.1', 'GCA_015067255.1', 'GCA_001190015.1', 'GCF_003010495.1', 'GCA_007134665.1', 'GCA_015486775.1', 'GCF_001422665.1', 'GCA_013911195.1', 'GCA_902535175.1', 'GCA_005116815.1', 'GCA_003518885.1', 'GCA_017854795.1', 'GCF_000986865.1', 'GCA_900546095.1', 'GCA_902798535.1', 'GCA_009776435.1', 'GCF_000720475.1', 'GCA_903896585.1', 'GCA_900556135.1', 'GCA_017458885.1', 'GCF_001419745.1', 'GCA_000987445.1', 'GCA_003536545.1', 'GCF_000185965.1', 'GCF_002234575.2', 'GCA_016719015.1', 'GCA_016841045.1', 'GCA_016282395.1', 'GCF_001050345.1', 'GCA_008638215.1', 'GCA_005887895.1', 'GCA_002409585.1', 'GCF_017377735.1', 'GCA_009995455.1', 'GCF_003841485.1', 'GCA_003220795.1', 'GCF_000226315.1', 'GCA_902775075.1', 'GCA_902609675.1', 'GCA_013202185.1', 'GCF_003073475.1', 'GCA_905373195.1', 'GCF_010731115.1', 'GCA_017475965.1', 'GCF_900473965.1', 'GCF_018398335.1', 'GCF_004684905.1', 'GCA_015062805.1', 'GCA_003484395.1', 'GCA_004377365.1', 'GCA_016650445.1', 'GCA_000436835.1', 'GCF_009828585.1', 'GCA_016211995.1', 'GCF_000160875.1', 'GCF_015863265.1', 'GCF_000964545.1', 'GCA_902634515.1', 'GCA_003561025.1', 'GCA_018608425.1', 'GCA_011364155.1', 'GCA_003157385.1', 'GCF_003987275.1', 'GCA_013389125.1', 'GCA_002299275.1', 'GCA_009927005.1', 'GCA_902788365.1', 'GCA_910589425.1', 'GCA_016782225.1', 'GCA_016926255.1', 'GCF_004054195.1', 'GCA_009780065.1', 'GCA_003519485.1', 'GCA_903862715.1', 'GCA_016195245.1', 'GCF_018613065.1', 'GCA_016927245.1', 'GCF_001050375.1', 'GCA_902764715.1', 'GCF_000308535.1', 'GCA_011390335.1', 'GCF_001945445.1', 'GCF_017876405.1', 'GCA_016795485.1', 'GCA_903920145.1', 'GCA_018645085.1', 'GCF_002831585.1', 'GCF_016890225.1', 'GCA_018691945.1', 'GCA_003978455.1', 'GCA_017516005.1', 'GCA_018816885.1', 'GCA_002688415.1', 'GCA_905215655.1', 'GCA_016207825.1', 'GCA_006226305.1', 'GCA_902634075.1', 'GCF_002160145.1', 'GCA_003224665.1', 'GCA_017302795.1', 'GCA_002772705.1', 'GCA_910584835.1', 'GCA_019120455.1', 'GCA_016219515.1', 'GCA_011052165.1', 'GCA_016712445.1', 'GCA_015488685.1', 'GCF_002975175.1', 'GCF_002272895.1', 'GCA_015065165.1', 'GCA_011959205.1', 'GCF_900114055.1', 'GCF_004634385.1', 'GCF_900105995.1', 'GCA_900543455.1', 'GCA_012735455.1', 'GCA_905182535.1', 'GCA_015522475.1', 'GCA_900540425.1', 'GCF_016888125.1', 'GCF_002836595.1', 'GCA_016281355.1', 'GCA_903912515.1', 'GCF_002920175.1', 'GCA_009693175.1', 'GCA_001821765.1', 'GCF_018127805.1', 'GCA_015069625.1', 'GCF_000701485.1', 'GCF_000762405.1', 'GCA_002423905.1', 'GCA_902706205.1', 'GCA_003152315.1', 'GCA_018667915.1', 'GCA_017569285.1', 'GCA_004195305.1', 'GCF_002101395.1', 'GCF_000166775.1', 'GCF_012974785.1', 'GCA_016713765.1', 'GCF_004366505.1', 'GCA_016744485.1', 'GCF_000278155.1', 'GCA_002354655.1', 'GCF_001650495.1', 'GCA_900553395.1', 'GCA_017416765.1', 'GCA_002435145.1', 'GCA_900764755.1', 'GCA_002699445.1', 'GCA_900314555.1', 'GCA_013214065.1', 'GCF_000258495.1', 'GCF_002909445.1', 'GCA_011364525.1', 'GCF_001431725.1', 'GCF_904384255.1', 'GCA_002403205.1', 'GCF_003634755.1', 'GCA_002438805.1', 'GCA_001689445.1', 'GCA_002070185.1', 'GCA_003508755.1', 'GCA_007126675.1', 'GCA_002839675.1', 'GCA_902580335.1', 'GCA_014377705.1', 'GCF_902460705.1', 'GCF_001665875.1', 'GCA_017507325.1', 'GCA_013874835.1', 'GCF_008642295.1', 'GCA_018056665.1', 'GCA_017430085.1', 'GCA_903916325.1', 'GCA_016711125.1', 'GCA_902764285.1', 'GCA_012842575.1', 'GCA_905196875.1', 'GCF_014204315.1', 'GCF_014694375.1', 'GCA_018715695.1', 'GCA_017432405.1', 'GCA_002429965.1', 'GCF_010500245.1', 'GCF_014644535.1', 'GCA_017458185.1', 'GCA_014635205.1', 'GCA_002083475.1', 'GCF_000163895.2', 'GCA_902790625.1', 'GCA_905182515.1', 'GCA_018817365.1', 'GCA_903914045.1', 'GCF_904528075.1', 'GCA_017420825.1', 'GCA_007117065.1', 'GCA_003225335.1', 'GCA_007134625.1', 'GCF_001190925.1', 'GCF_016595505.1', 'GCF_012849555.1', 'GCA_017551705.1', 'GCA_902634325.1', 'GCA_017514525.1', 'GCF_008905045.1', 'GCF_003367175.1', 'GCA_900760795.1', 'GCF_004359375.1', 'GCA_003646055.1', 'GCA_903825015.1', 'GCF_009932375.1', 'GCA_902803085.1', 'GCA_002792535.1', 'GCA_002726435.1', 'GCA_002691305.1', 'GCA_018712075.1', 'GCA_007120565.1', 'GCF_016862755.1', 'GCA_016936595.1', 'GCA_017547395.1', 'GCA_016650365.1', 'GCA_017472245.1', 'GCA_002714785.1', 'GCF_900156495.1', 'GCF_004151105.1', 'GCF_001404875.1', 'GCA_002298145.1', 'GCA_016191465.1', 'GCA_003242075.1', 'GCF_014596445.1', 'GCA_910577795.1', 'GCF_000384255.1', 'GCF_900113325.1', 'GCF_900129785.1', 'GCF_005221385.1', 'GCF_000420165.1', 'GCF_007994055.1', 'GCA_005773145.1', 'GCF_017897595.1', 'GCA_900540185.1', 'GCA_002723375.1', 'GCA_016234655.1', 'GCF_002161595.1', 'GCF_014635685.1', 'GCF_000014785.1', 'GCA_017381015.1', 'GCF_000775995.1', 'GCA_015489145.1', 'GCA_002345575.1', 'GCA_013824755.1', 'GCF_002962445.1', 'GCF_003386665.1', 'GCA_018830925.1', 'GCA_003211415.1', 'GCF_003634575.1', 'GCF_001593005.1', 'GCA_017542055.1', 'GCA_018065615.1', 'GCA_002163975.1', 'GCA_012510755.1', 'GCF_000526195.1', 'GCA_003244205.1', 'GCA_016718655.1', 'GCA_902778055.1', 'GCA_014983025.1', 'GCA_014338185.1', 'GCA_902803625.1', 'GCF_017358165.1', 'GCF_002865985.1', 'GCA_900755095.1', 'GCF_004339425.1', 'GCF_004303025.1', 'GCF_001412535.1', 'GCF_003752465.1', 'GCA_003566815.1', 'GCA_015062305.1', 'GCF_004099695.1', 'GCA_003144015.1', 'GCF_003815975.1', 'GCF_000770305.1', 'GCF_001887355.1', 'GCA_002392645.1', 'GCF_001885075.1', 'GCF_016756775.1', 'GCA_002457075.1', 'GCA_905182715.1', 'GCA_011364265.1', 'GCA_900545805.1', 'GCA_016342595.1', 'GCA_014859075.1', 'GCF_000814685.1', 'GCF_007475525.1', 'GCA_011390035.1', 'GCA_009783515.1', 'GCA_007136565.1', 'GCA_018675425.1', 'GCF_006716115.1', 'GCA_007131435.1', 'GCA_013298325.1', 'GCF_014842075.1', 'GCA_012728855.1', 'GCA_902797985.1', 'GCF_014641635.1', 'GCA_905478065.1', 'GCA_002747875.1', 'GCF_000165675.1', 'GCA_903861305.1', 'GCF_016863275.1', 'GCF_000731315.1', 'GCA_011331385.1', 'GCA_017857815.1', 'GCA_900321315.1', 'GCF_000236035.1', 'GCA_903863905.1', 'GCA_905215195.1', 'GCF_019218635.1', 'GCA_011042305.1', 'GCA_903905455.1', 'GCA_005879945.1', 'GCF_014610845.1', 'GCA_903919075.1', 'GCA_002733905.1', 'GCA_903886985.1', 'GCF_014770435.1', 'GCF_003020125.1', 'GCF_000505665.1', 'GCA_016463775.1', 'GCA_015061625.1', 'GCF_000426645.1', 'GCA_002292375.1', 'GCA_903837365.1', 'GCA_000961585.1', 'GCF_013391105.1', 'GCF_013385425.1', 'GCA_009909085.1', 'GCF_900102225.1', 'GCA_009703055.1', 'GCA_002371135.1', 'GCA_013334225.1', 'GCA_016795375.1', 'GCA_004323695.1', 'GCF_000423025.1', 'GCF_004378855.1', 'GCA_013042375.1', 'GCF_009910675.1', 'GCF_001999325.1', 'GCF_003946645.1', 'GCF_015752155.1', 'GCF_003633615.1', 'GCA_002730485.1', 'GCF_900182555.1', 'GCA_015522385.1', 'GCA_019056875.1', 'GCA_002699105.1', 'GCA_007131405.1', 'GCF_018128925.1', 'GCA_019116905.1', 'GCA_002394525.1', 'GCF_013305725.1', 'GCA_905478905.1', 'GCA_009775605.1', 'GCF_002954605.1', 'GCF_006770285.1', 'GCA_009841165.1', 'GCA_902773355.1', 'GCF_000710775.1', 'GCA_003670825.1', 'GCF_900109045.1', 'GCA_002256685.1', 'GCA_903939555.1', 'GCF_002283555.1', 'GCA_905214675.1', 'GCA_017635875.1', 'GCF_007833355.1', 'GCA_903842025.1', 'GCF_017877355.1', 'GCA_009663185.1', 'GCA_006226345.1', 'GCF_004363245.1', 'GCF_001806875.1', 'GCA_002361235.1', 'GCA_902768735.1', 'GCA_014874415.1', 'GCA_008638225.1', 'GCA_002733215.1', 'GCA_018380195.1', 'GCF_016592555.1', 'GCA_013151335.1', 'GCF_000709085.1', 'GCF_015244745.1', 'GCA_012518835.1', 'GCF_001863355.1', 'GCF_001648475.1', 'GCA_016840685.1', 'GCA_002402455.1', 'GCF_003970915.1', 'GCA_001796155.1', 'GCA_902805805.1', 'GCA_902562135.1', 'GCA_017467305.1', 'GCF_015265435.1', 'GCA_002392405.1', 'GCA_003540955.1', 'GCA_004297005.1', 'GCF_000785535.1', 'GCA_002714255.1', 'GCA_002683735.1', 'GCF_001435845.1', 'GCA_902782185.1', 'GCF_002554795.1', 'GCF_900099915.1', 'GCF_000759475.1', 'GCA_017520845.1', 'GCA_001823165.1', 'GCF_019061185.1', 'GCF_002944405.1', 'GCF_900110655.1', 'GCF_003626575.1', 'GCF_017356265.1', 'GCA_902783155.1', 'GCA_014382375.1', 'GCA_002428415.1', 'GCA_003553245.1', 'GCA_016841485.1', 'GCF_018139485.1', 'GCA_002710265.1', 'GCA_002727275.1', 'GCF_900099985.1', 'GCA_002452265.1', 'GCA_902779915.1', 'GCF_017873215.1', 'GCA_900319695.1', 'GCA_016192685.1', 'GCA_005889295.1', 'GCA_012031215.1', 'GCA_000621185.1', 'GCA_003228735.1', 'GCA_002411175.1', 'GCF_000508165.1', 'GCF_004784475.1', 'GCF_000720765.1', 'GCA_018065365.1', 'GCA_002306745.1', 'GCF_900156895.1', 'GCF_002835805.1', 'GCF_900117445.1', 'GCF_002257665.1', 'GCA_016217785.1', 'GCA_018401695.1', 'GCF_007833215.1', 'GCA_017610005.1', 'GCF_900048895.1', 'GCA_903854175.1', 'GCF_014201805.1', 'GCA_017538125.1', 'GCA_016199025.1', 'GCA_900759985.1', 'GCA_017466685.1', 'GCA_903916085.1', 'GCA_011776225.1', 'GCA_017475935.1', 'GCF_900188205.1', 'GCA_017507215.1', 'GCA_910579605.1', 'GCA_002773355.1', 'GCA_016926205.1', 'GCF_013141775.1', 'GCF_902460625.1', 'GCA_007133115.1', 'GCA_017509155.1', 'GCA_001560915.1', 'GCA_002838815.1', 'GCF_001659725.1', 'GCA_013286495.1', 'GCF_000711795.1', 'GCF_003987225.1', 'GCA_003577005.1', 'GCF_902702775.1', 'GCA_017396175.1', 'GCA_007571315.1', 'GCF_900177385.1', 'GCF_001418015.1', 'GCA_903832475.1', 'GCA_017539125.1', 'GCF_003149245.1', 'GCF_001730525.1', 'GCF_000787855.1', 'GCF_904848455.1', 'GCA_905214825.1', 'GCA_001803205.1', 'GCF_902506345.1', 'GCF_001423905.1', 'GCA_019187365.1', 'GCF_014201705.1', 'GCF_000015145.1', 'GCA_016712565.1', 'GCF_013044135.1', 'GCA_018711275.1', 'GCF_000310145.2', 'GCF_900107665.1', 'GCA_012517755.1', 'GCA_002320595.1', 'GCF_014196845.1', 'GCA_009921985.1', 'GCA_903905065.1', 'GCA_003249795.1', 'GCA_016861085.1', 'GCA_005789005.1', 'GCF_001421705.1', 'GCF_002119725.1', 'GCA_016181245.1', 'GCA_018302725.1', 'GCA_015698305.1', 'GCA_011372335.1', 'GCF_001676385.1', 'GCA_902588625.1', 'GCA_903822335.1', 'GCA_902538445.1', 'GCA_003170915.1', 'GCF_001578805.1', 'GCA_002701375.1', 'GCA_902795965.1', 'GCA_009885695.1', 'GCA_015060165.1', 'GCA_902586435.1', 'GCA_003158835.1', 'GCA_003151815.1', 'GCA_011391645.1', 'GCF_001891125.1', 'GCA_016765095.1', 'GCF_001083805.1', 'GCA_018069465.1', 'GCF_003208175.1', 'GCA_900555585.1', 'GCF_013389455.1', 'GCF_001667035.1', 'GCA_903919625.1', 'GCF_015025035.1', 'GCA_018969845.1', 'GCA_016281605.1', 'GCA_016929695.1', 'GCA_013372875.1', 'GCF_003096715.1', 'GCA_900313705.1', 'GCA_009841605.1', 'GCF_015751765.1', 'GCA_012735585.1', 'GCF_014649735.1', 'GCA_012735335.1', 'GCA_002329365.1', 'GCA_905234305.1', 'GCF_013149295.1', 'GCA_002684695.1', 'GCA_005503165.1', 'GCA_003213615.1', 'GCF_003946115.1', 'GCA_011364225.1', 'GCA_002313895.1', 'GCF_008275125.1', 'GCF_900111965.1', 'GCF_014048425.1', 'GCF_014638275.1', 'GCA_015060885.1', 'GCF_001689125.2', 'GCA_015655335.1', 'GCA_013205585.1', 'GCA_015523125.1', 'GCA_009783395.1', 'GCF_900111675.1', 'GCF_009601165.1', 'GCA_019119025.1', 'GCA_002726005.1', 'GCA_017552845.1', 'GCA_900554655.1', 'GCA_902526085.1', 'GCA_018711035.1', 'GCA_902593795.1', 'GCA_902534735.1', 'GCA_012521295.1', 'GCF_000783395.1', 'GCA_003149565.1', 'GCA_009786615.1', 'GCF_900142975.1', 'GCF_000711805.1', 'GCA_015709715.1', 'GCA_003139955.1', 'GCA_902523515.1', 'GCA_018238375.1', 'GCF_000828815.1', 'GCA_016845105.1', 'GCF_000620125.1', 'GCA_013287665.1', 'GCA_007695145.1', 'GCA_016808295.1', 'GCA_016927935.1', 'GCA_902522895.1', 'GCA_001940755.1', 'GCA_003242255.1', 'GCF_009765995.1', 'GCA_003249785.1', 'GCF_002028545.1', 'GCA_902572675.1', 'GCA_904420435.1', 'GCA_012031195.1', 'GCA_012516535.1', 'GCA_016841685.1', 'GCF_004348735.1', 'GCA_013388835.1', 'GCA_002333145.1', 'GCA_001789645.1', 'GCA_017617655.1', 'GCF_001675285.1', 'GCA_011364305.1', 'GCF_902499045.1', 'GCA_017483225.1', 'GCA_014378085.1', 'GCA_013178005.1', 'GCF_902809835.1', 'GCA_903879465.1', 'GCF_012221945.1', 'GCF_900099605.1', 'GCA_014523515.1', 'GCA_012966015.1', 'GCA_018053145.1', 'GCA_003558125.1', 'GCF_004006315.1', 'GCA_003647035.1', 'GCA_017477255.1', 'GCF_000317635.1', 'GCF_014251555.1', 'GCA_017577405.1', 'GCA_003250975.1', 'GCA_905478325.1', 'GCA_003457075.1', 'GCF_001989615.1', 'GCF_001618425.1', 'GCF_002869745.1', 'GCA_910586215.1', 'GCF_002157875.1', 'GCA_903937035.1', 'GCA_905182655.1', 'GCA_013151955.1', 'GCA_016744135.1', 'GCA_902800925.1', 'GCA_902796215.1', 'GCA_002329675.1', 'GCF_000278215.1', 'GCA_905236055.1', 'GCA_019237215.1', 'GCA_910585905.1', 'GCF_000146345.1', 'GCF_004535825.1', 'GCF_014837155.1', 'GCA_012963565.1', 'GCF_900090205.1', 'GCA_902785295.1', 'GCF_000686845.1', 'GCA_017857395.1', 'GCA_002084355.1', 'GCA_001829875.1', 'GCF_900119365.1', 'GCA_016781705.1', 'GCA_900551415.1', 'GCA_017408305.1', 'GCF_001620055.1', 'GCA_002418965.1', 'GCA_903859705.1', 'GCA_014239715.1', 'GCA_011389515.1', 'GCF_001712795.1', 'GCA_017502425.1', 'GCF_018128025.1', 'GCA_002712105.1', 'GCA_011191975.1', 'GCF_016888515.1', 'GCF_000190635.1', 'GCF_000224335.1', 'GCA_001820935.1', 'GCA_001823535.1', 'GCA_014859175.1', 'GCA_902789245.1', 'GCF_000511355.1', 'GCF_003290185.1', 'GCA_017934745.1', 'GCF_003185655.1', 'GCF_002155145.1', 'GCA_017548225.1', 'GCF_004803895.1', 'GCF_018739885.1', 'GCA_014238825.1', 'GCA_016235255.1', 'GCA_017450985.1', 'GCF_005844455.1', 'GCA_903849835.1', 'GCF_001559795.1', 'GCF_006228385.1', 'GCA_011364105.1', 'GCA_003070825.1', 'GCA_016712535.1', 'GCA_903870165.1', 'GCA_003456055.1', 'GCF_900115045.1', 'GCF_013403955.1', 'GCF_000993805.1', 'GCF_003992125.1', 'GCA_902797945.1', 'GCA_017516925.1', 'GCA_910585565.1', 'GCA_015062085.1', 'GCF_013340205.1', 'GCA_012735135.1', 'GCA_902799185.1', 'GCA_014763885.1', 'GCA_017942005.1', 'GCA_009780875.1', 'GCA_017558825.1', 'GCA_903957805.1', 'GCA_002329225.1', 'GCA_011391855.1', 'GCA_900551775.1', 'GCF_013149805.1', 'GCA_001995005.1', 'GCA_016186625.1', 'GCA_001650175.1', 'GCF_900117315.1', 'GCA_016219015.1', 'GCF_014696315.1', 'GCA_002163065.1', 'GCA_017114985.1', 'GCF_001434275.1', 'GCF_900105505.1', 'GCF_002873135.1', 'GCA_902764545.1', 'GCA_006218045.1', 'GCA_000992325.1', 'GCF_900604285.1', 'GCA_003266075.1', 'GCA_900552855.1', 'GCA_902783615.1', 'GCA_016764875.1', 'GCA_016795075.1', 'GCA_905234595.1', 'GCA_002070115.1', 'GCF_014281055.1', 'GCA_003212555.1', 'GCA_009781325.1', 'GCA_905233405.1', 'GCA_003105265.1', 'GCA_018812465.1', 'GCF_002866925.1', 'GCA_902593945.1', 'GCA_902803315.1', 'GCA_015056325.1', 'GCA_905236615.1', 'GCA_900556845.1', 'GCF_000336575.1', 'GCF_000019785.1', 'GCF_900106665.1', 'GCF_004363955.1', 'GCF_004698125.1', 'GCA_001513385.1', 'GCA_002422045.1', 'GCA_016186115.1', 'GCF_001677275.1', 'GCA_013334655.1', 'GCF_003112775.1', 'GCF_002233755.1', 'GCA_902784965.1', 'GCF_900120385.1', 'GCA_900078385.1', 'GCA_002352225.1', 'GCA_017458845.1', 'GCF_009496205.1', 'GCA_017640615.1', 'GCA_900551855.1', 'GCA_017656335.1', 'GCA_017469025.1', 'GCA_017453325.1', 'GCA_002317155.1', 'GCF_001516615.1', 'GCF_900090305.1', 'GCA_017650465.1', 'GCA_002314725.1', 'GCA_902575375.1', 'GCA_009698815.1', 'GCF_904420445.1', 'GCA_017961145.1', 'GCA_017507425.1', 'GCF_900187225.1', 'GCA_018702695.1', 'GCA_004295105.1']\n",
      "False\n"
     ]
    }
   ],
   "source": [
    "genome_ids = [f\"\\'{genome_id}\\'\" for genome_id in failures_df.genome_id.unique()]\n",
    "print(f\"[{', '.join(genome_ids)}]\")\n",
    "\n",
    "print('GCA_011364155.1' in genome_ids)"
   ]
  },
  {
   "cell_type": "code",
   "execution_count": 13,
   "metadata": {},
   "outputs": [],
   "source": [
    "# Ok, so it seems as though there are entire genomes missing in the proteins_r207 table, as well as some genes\n",
    "# for genomes which are included. \n",
    "\n",
    "genes_df = []\n",
    "# I dowloaded all of the FASTA files for the genomes with missing genes to see what is going on. \n",
    "for file_name in os.listdir('./genome_ids_with_missing_genes'):\n",
    "    path = os.path.join('./genome_ids_with_missing_genes', file_name)\n",
    "    file = ProteinsFile(path)\n",
    "    genes_df += file.entries()\n",
    "genes_df = pd.DataFrame(genes_df)\n",
    "    "
   ]
  },
  {
   "cell_type": "code",
   "execution_count": 29,
   "metadata": {},
   "outputs": [
    {
     "name": "stdout",
     "output_type": "stream",
     "text": [
      "9200 gene IDs not in the database.\n",
      "9200 genes not in the database, but are in the source files.\n"
     ]
    }
   ],
   "source": [
    "with open('./gene_ids_not_in_database.txt', 'r') as f:\n",
    "    gene_ids_not_in_database = f.readlines()\n",
    "# Why is np.loadtxt not working?\n",
    "# genes_ids_not_in_database = np.loadtxt('/home/prichter/Documents/find-a-bug/sandbox/gene_ids_not_in_database.txt', dtype=str)\n",
    "print(len(gene_ids_not_in_database), 'gene IDs not in the database.')\n",
    "\n",
    "df = genes_df[genes_df.gene_id.isin(genes_ids_not_in_database)]\n",
    "print(len(df), 'genes not in the database, but are in the source files.')\n",
    "# Ok, so have confirmed that the issue is not due to the fact that the genes are missing in the source files. \n",
    "# There also doesn't seem to be anything particularly strange about the dropped entries. I wonder what happened?"
   ]
  },
  {
   "cell_type": "code",
   "execution_count": 30,
   "metadata": {},
   "outputs": [
    {
     "data": {
      "text/html": [
       "<div>\n",
       "<style scoped>\n",
       "    .dataframe tbody tr th:only-of-type {\n",
       "        vertical-align: middle;\n",
       "    }\n",
       "\n",
       "    .dataframe tbody tr th {\n",
       "        vertical-align: top;\n",
       "    }\n",
       "\n",
       "    .dataframe thead th {\n",
       "        text-align: right;\n",
       "    }\n",
       "</style>\n",
       "<table border=\"1\" class=\"dataframe\">\n",
       "  <thead>\n",
       "    <tr style=\"text-align: right;\">\n",
       "      <th></th>\n",
       "      <th>gene_id</th>\n",
       "      <th>start</th>\n",
       "      <th>stop</th>\n",
       "      <th>strand</th>\n",
       "      <th>scaffold_id</th>\n",
       "      <th>partial</th>\n",
       "      <th>rbs_motif</th>\n",
       "      <th>gc_content</th>\n",
       "      <th>seq</th>\n",
       "      <th>genome_id</th>\n",
       "      <th>version</th>\n",
       "    </tr>\n",
       "  </thead>\n",
       "  <tbody>\n",
       "    <tr>\n",
       "      <th>3889</th>\n",
       "      <td>NZ_JADQDN010000009.1_40</td>\n",
       "      <td>45606</td>\n",
       "      <td>49127</td>\n",
       "      <td>-</td>\n",
       "      <td>21</td>\n",
       "      <td>00</td>\n",
       "      <td>None</td>\n",
       "      <td>0.642</td>\n",
       "      <td>MKPVLTRALDALKMGQSLTLSGVPDGFDALAVADLARGLSGQVEGP...</td>\n",
       "      <td>GCF_015694425.1</td>\n",
       "      <td>None</td>\n",
       "    </tr>\n",
       "    <tr>\n",
       "      <th>3890</th>\n",
       "      <td>NZ_JADQDN010000009.1_41</td>\n",
       "      <td>49205</td>\n",
       "      <td>49501</td>\n",
       "      <td>-</td>\n",
       "      <td>21</td>\n",
       "      <td>00</td>\n",
       "      <td>GGAG/GAGG</td>\n",
       "      <td>0.636</td>\n",
       "      <td>MSGTTRSSAGLDTRRRQILYRSWHRGMREMDLIMGRFADAEIGELS...</td>\n",
       "      <td>GCF_015694425.1</td>\n",
       "      <td>None</td>\n",
       "    </tr>\n",
       "    <tr>\n",
       "      <th>3891</th>\n",
       "      <td>NZ_JADQDN010000009.1_42</td>\n",
       "      <td>49591</td>\n",
       "      <td>51708</td>\n",
       "      <td>+</td>\n",
       "      <td>21</td>\n",
       "      <td>00</td>\n",
       "      <td>None</td>\n",
       "      <td>0.645</td>\n",
       "      <td>MSLRPSILDPLFAPANTLPGVGPKIAPLLDRLLGEAGKPTRVADLL...</td>\n",
       "      <td>GCF_015694425.1</td>\n",
       "      <td>None</td>\n",
       "    </tr>\n",
       "    <tr>\n",
       "      <th>3892</th>\n",
       "      <td>NZ_JADQDN010000009.1_43</td>\n",
       "      <td>51881</td>\n",
       "      <td>53707</td>\n",
       "      <td>-</td>\n",
       "      <td>21</td>\n",
       "      <td>00</td>\n",
       "      <td>AGGA/GGAG/GAGG</td>\n",
       "      <td>0.606</td>\n",
       "      <td>MCGIVGIIGKAPVAPQIVEALKRLEYRGYDSAGVATLEEGRLDRRR...</td>\n",
       "      <td>GCF_015694425.1</td>\n",
       "      <td>None</td>\n",
       "    </tr>\n",
       "    <tr>\n",
       "      <th>3893</th>\n",
       "      <td>NZ_JADQDN010000009.1_44</td>\n",
       "      <td>53818</td>\n",
       "      <td>55113</td>\n",
       "      <td>-</td>\n",
       "      <td>21</td>\n",
       "      <td>00</td>\n",
       "      <td>GGAG/GAGG</td>\n",
       "      <td>0.620</td>\n",
       "      <td>MKSAKPKVLHQVASRSMLGHVMATLAQAGATSTAVVIGPDREDVAK...</td>\n",
       "      <td>GCF_015694425.1</td>\n",
       "      <td>None</td>\n",
       "    </tr>\n",
       "    <tr>\n",
       "      <th>...</th>\n",
       "      <td>...</td>\n",
       "      <td>...</td>\n",
       "      <td>...</td>\n",
       "      <td>...</td>\n",
       "      <td>...</td>\n",
       "      <td>...</td>\n",
       "      <td>...</td>\n",
       "      <td>...</td>\n",
       "      <td>...</td>\n",
       "      <td>...</td>\n",
       "      <td>...</td>\n",
       "    </tr>\n",
       "    <tr>\n",
       "      <th>76402</th>\n",
       "      <td>DTBN01000011.1_3</td>\n",
       "      <td>1587</td>\n",
       "      <td>2666</td>\n",
       "      <td>+</td>\n",
       "      <td>12</td>\n",
       "      <td>00</td>\n",
       "      <td>None</td>\n",
       "      <td>0.456</td>\n",
       "      <td>MIKMCAIHDNVKRGISKMAVVLIVALIIVVGIVAWYAFSSIGVAPQ...</td>\n",
       "      <td>GCA_011364235.1</td>\n",
       "      <td>None</td>\n",
       "    </tr>\n",
       "    <tr>\n",
       "      <th>76403</th>\n",
       "      <td>DTBN01000011.1_4</td>\n",
       "      <td>2713</td>\n",
       "      <td>4233</td>\n",
       "      <td>+</td>\n",
       "      <td>12</td>\n",
       "      <td>00</td>\n",
       "      <td>GGTG</td>\n",
       "      <td>0.420</td>\n",
       "      <td>MLVVELRKITKVYPGGIVANYEVDFDLRKGEVHALLGENGAGKTTL...</td>\n",
       "      <td>GCA_011364235.1</td>\n",
       "      <td>None</td>\n",
       "    </tr>\n",
       "    <tr>\n",
       "      <th>76404</th>\n",
       "      <td>DTBN01000011.1_5</td>\n",
       "      <td>4298</td>\n",
       "      <td>5266</td>\n",
       "      <td>+</td>\n",
       "      <td>12</td>\n",
       "      <td>00</td>\n",
       "      <td>None</td>\n",
       "      <td>0.465</td>\n",
       "      <td>MGKDPLQAYYWLFQGAFSPSAISETFVRATPLLLISIGLAVVFRAK...</td>\n",
       "      <td>GCA_011364235.1</td>\n",
       "      <td>None</td>\n",
       "    </tr>\n",
       "    <tr>\n",
       "      <th>76405</th>\n",
       "      <td>DTBN01000011.1_6</td>\n",
       "      <td>5263</td>\n",
       "      <td>6204</td>\n",
       "      <td>+</td>\n",
       "      <td>12</td>\n",
       "      <td>00</td>\n",
       "      <td>GGT</td>\n",
       "      <td>0.445</td>\n",
       "      <td>MITAEVILGLLYSSITLLTPLLLAGLAELLVERSGILNLSLEGTML...</td>\n",
       "      <td>GCA_011364235.1</td>\n",
       "      <td>None</td>\n",
       "    </tr>\n",
       "    <tr>\n",
       "      <th>76407</th>\n",
       "      <td>DTBN01000011.1_8</td>\n",
       "      <td>7568</td>\n",
       "      <td>8950</td>\n",
       "      <td>-</td>\n",
       "      <td>12</td>\n",
       "      <td>00</td>\n",
       "      <td>None</td>\n",
       "      <td>0.465</td>\n",
       "      <td>MDLLFNILDKTLTGPPIEKRDFEFKLVPKTTRDVLKEYGLEKTFDP...</td>\n",
       "      <td>GCA_011364235.1</td>\n",
       "      <td>None</td>\n",
       "    </tr>\n",
       "  </tbody>\n",
       "</table>\n",
       "<p>9200 rows × 11 columns</p>\n",
       "</div>"
      ],
      "text/plain": [
       "                       gene_id  start   stop strand  scaffold_id partial  \\\n",
       "3889   NZ_JADQDN010000009.1_40  45606  49127      -           21      00   \n",
       "3890   NZ_JADQDN010000009.1_41  49205  49501      -           21      00   \n",
       "3891   NZ_JADQDN010000009.1_42  49591  51708      +           21      00   \n",
       "3892   NZ_JADQDN010000009.1_43  51881  53707      -           21      00   \n",
       "3893   NZ_JADQDN010000009.1_44  53818  55113      -           21      00   \n",
       "...                        ...    ...    ...    ...          ...     ...   \n",
       "76402         DTBN01000011.1_3   1587   2666      +           12      00   \n",
       "76403         DTBN01000011.1_4   2713   4233      +           12      00   \n",
       "76404         DTBN01000011.1_5   4298   5266      +           12      00   \n",
       "76405         DTBN01000011.1_6   5263   6204      +           12      00   \n",
       "76407         DTBN01000011.1_8   7568   8950      -           12      00   \n",
       "\n",
       "            rbs_motif  gc_content  \\\n",
       "3889             None       0.642   \n",
       "3890        GGAG/GAGG       0.636   \n",
       "3891             None       0.645   \n",
       "3892   AGGA/GGAG/GAGG       0.606   \n",
       "3893        GGAG/GAGG       0.620   \n",
       "...               ...         ...   \n",
       "76402            None       0.456   \n",
       "76403            GGTG       0.420   \n",
       "76404            None       0.465   \n",
       "76405             GGT       0.445   \n",
       "76407            None       0.465   \n",
       "\n",
       "                                                     seq        genome_id  \\\n",
       "3889   MKPVLTRALDALKMGQSLTLSGVPDGFDALAVADLARGLSGQVEGP...  GCF_015694425.1   \n",
       "3890   MSGTTRSSAGLDTRRRQILYRSWHRGMREMDLIMGRFADAEIGELS...  GCF_015694425.1   \n",
       "3891   MSLRPSILDPLFAPANTLPGVGPKIAPLLDRLLGEAGKPTRVADLL...  GCF_015694425.1   \n",
       "3892   MCGIVGIIGKAPVAPQIVEALKRLEYRGYDSAGVATLEEGRLDRRR...  GCF_015694425.1   \n",
       "3893   MKSAKPKVLHQVASRSMLGHVMATLAQAGATSTAVVIGPDREDVAK...  GCF_015694425.1   \n",
       "...                                                  ...              ...   \n",
       "76402  MIKMCAIHDNVKRGISKMAVVLIVALIIVVGIVAWYAFSSIGVAPQ...  GCA_011364235.1   \n",
       "76403  MLVVELRKITKVYPGGIVANYEVDFDLRKGEVHALLGENGAGKTTL...  GCA_011364235.1   \n",
       "76404  MGKDPLQAYYWLFQGAFSPSAISETFVRATPLLLISIGLAVVFRAK...  GCA_011364235.1   \n",
       "76405  MITAEVILGLLYSSITLLTPLLLAGLAELLVERSGILNLSLEGTML...  GCA_011364235.1   \n",
       "76407  MDLLFNILDKTLTGPPIEKRDFEFKLVPKTTRDVLKEYGLEKTFDP...  GCA_011364235.1   \n",
       "\n",
       "      version  \n",
       "3889     None  \n",
       "3890     None  \n",
       "3891     None  \n",
       "3892     None  \n",
       "3893     None  \n",
       "...       ...  \n",
       "76402    None  \n",
       "76403    None  \n",
       "76404    None  \n",
       "76405    None  \n",
       "76407    None  \n",
       "\n",
       "[9200 rows x 11 columns]"
      ]
     },
     "execution_count": 30,
     "metadata": {},
     "output_type": "execute_result"
    }
   ],
   "source": [
    "df"
   ]
  },
  {
   "cell_type": "code",
   "execution_count": null,
   "metadata": {},
   "outputs": [],
   "source": []
  }
 ],
 "metadata": {
  "kernelspec": {
   "display_name": "env",
   "language": "python",
   "name": "python3"
  },
  "language_info": {
   "codemirror_mode": {
    "name": "ipython",
    "version": 3
   },
   "file_extension": ".py",
   "mimetype": "text/x-python",
   "name": "python",
   "nbconvert_exporter": "python",
   "pygments_lexer": "ipython3",
   "version": "3.11.5"
  }
 },
 "nbformat": 4,
 "nbformat_minor": 2
}
